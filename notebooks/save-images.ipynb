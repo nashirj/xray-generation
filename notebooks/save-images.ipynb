{
 "cells": [
  {
   "attachments": {},
   "cell_type": "markdown",
   "metadata": {},
   "source": [
    "# Save downscaled images to specified directory"
   ]
  },
  {
   "cell_type": "code",
   "execution_count": 13,
   "metadata": {},
   "outputs": [],
   "source": [
    "import sys\n",
    "sys.path.append('..')"
   ]
  },
  {
   "cell_type": "code",
   "execution_count": 34,
   "metadata": {},
   "outputs": [],
   "source": [
    "from src import dataset\n",
    "import importlib\n",
    "importlib.reload(dataset)\n",
    "\n",
    "from torchvision.utils import save_image"
   ]
  },
  {
   "cell_type": "code",
   "execution_count": 35,
   "metadata": {},
   "outputs": [],
   "source": [
    "dl, sizes, classes = dataset.load_downscaled_xray_data(\"../data/chest_xray\")"
   ]
  },
  {
   "cell_type": "code",
   "execution_count": 36,
   "metadata": {},
   "outputs": [],
   "source": [
    "def save_n_images(dataloader, n, save_dir, image_key=0, label_key=1):\n",
    "    # Save n images from the provided dataloader to specified path\n",
    "    n_saved = 0\n",
    "    for i, batch in enumerate(dataloader):\n",
    "        # Save each image in batch\n",
    "        for j, (image, label) in enumerate(zip(batch[image_key], batch[label_key])):\n",
    "            save_image(image, f\"{save_dir}/{label}-{i}-{j}.png\")\n",
    "            n_saved += 1\n",
    "            if n_saved >= n:\n",
    "                return"
   ]
  },
  {
   "cell_type": "code",
   "execution_count": 37,
   "metadata": {},
   "outputs": [],
   "source": [
    "!ls ../data/metric-comparison/fmnist/real-test\n",
    "# !rm ../data/metric-comparison/fmnist/real-train/*"
   ]
  },
  {
   "cell_type": "code",
   "execution_count": 38,
   "metadata": {},
   "outputs": [
    {
     "data": {
      "text/plain": [
       "{'train': <torch.utils.data.dataloader.DataLoader at 0x7f69771ae700>,\n",
       " 'test': <torch.utils.data.dataloader.DataLoader at 0x7f69771ae790>}"
      ]
     },
     "execution_count": 38,
     "metadata": {},
     "output_type": "execute_result"
    }
   ],
   "source": [
    "dl"
   ]
  },
  {
   "cell_type": "code",
   "execution_count": 39,
   "metadata": {},
   "outputs": [],
   "source": [
    "train_dl = dl[\"train\"]\n",
    "test_dl = dl[\"test\"]\n",
    "\n",
    "save_n_images(train_dl, 100, \"../data/metric-comparison/xray/real-train\")\n",
    "save_n_images(test_dl, 100, \"../data/metric-comparison/xray/real-test\")"
   ]
  },
  {
   "cell_type": "code",
   "execution_count": null,
   "metadata": {},
   "outputs": [],
   "source": []
  }
 ],
 "metadata": {
  "kernelspec": {
   "display_name": "cap5516-final",
   "language": "python",
   "name": "python3"
  },
  "language_info": {
   "codemirror_mode": {
    "name": "ipython",
    "version": 3
   },
   "file_extension": ".py",
   "mimetype": "text/x-python",
   "name": "python",
   "nbconvert_exporter": "python",
   "pygments_lexer": "ipython3",
   "version": "3.9.16"
  },
  "orig_nbformat": 4
 },
 "nbformat": 4,
 "nbformat_minor": 2
}
