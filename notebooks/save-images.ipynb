{
 "cells": [
  {
   "attachments": {},
   "cell_type": "markdown",
   "metadata": {},
   "source": [
    "# Save images from FashionMNIST"
   ]
  },
  {
   "cell_type": "code",
   "execution_count": 9,
   "metadata": {},
   "outputs": [],
   "source": [
    "import datahelper as dh\n",
    "\n",
    "from torchvision.utils import save_image"
   ]
  },
  {
   "cell_type": "code",
   "execution_count": 2,
   "metadata": {},
   "outputs": [
    {
     "name": "stderr",
     "output_type": "stream",
     "text": [
      "Found cached dataset fashion_mnist (/home/nashir/.cache/huggingface/datasets/fashion_mnist/fashion_mnist/1.0.0/8d6c32399aa01613d96e2cbc9b13638f359ef62bb33612b077b4c247f6ef99c1)\n",
      "100%|██████████| 2/2 [00:00<00:00, 20.95it/s]\n"
     ]
    }
   ],
   "source": [
    "fashionmnist = dh.load_fashion_mnist(batch_size=100)"
   ]
  },
  {
   "cell_type": "code",
   "execution_count": 24,
   "metadata": {},
   "outputs": [],
   "source": [
    "# Save 100 images from the fashion mnist dataset\n",
    "n_saved = 0\n",
    "prefix1 = \"data/fmnist/set1-real\"\n",
    "prefix2 = \"data/fmnist/set2-real\"\n",
    "prefix = prefix1\n",
    "for i, batch in enumerate(fashionmnist):\n",
    "    # # Save each image in batch\n",
    "    for j, (image, label) in enumerate(zip(batch[\"pixel_values\"], batch[\"label\"])):\n",
    "        save_image(image, f\"{prefix}/{label}-{i}-{j}.png\")\n",
    "        n_saved += 1\n",
    "        if n_saved >= 100:\n",
    "            prefix = prefix2\n",
    "        if n_saved >= 200:\n",
    "            break\n",
    "    if n_saved >= 200:\n",
    "        break"
   ]
  },
  {
   "cell_type": "code",
   "execution_count": null,
   "metadata": {},
   "outputs": [],
   "source": []
  }
 ],
 "metadata": {
  "kernelspec": {
   "display_name": "cap5516-final",
   "language": "python",
   "name": "python3"
  },
  "language_info": {
   "codemirror_mode": {
    "name": "ipython",
    "version": 3
   },
   "file_extension": ".py",
   "mimetype": "text/x-python",
   "name": "python",
   "nbconvert_exporter": "python",
   "pygments_lexer": "ipython3",
   "version": "3.9.16"
  },
  "orig_nbformat": 4
 },
 "nbformat": 4,
 "nbformat_minor": 2
}
